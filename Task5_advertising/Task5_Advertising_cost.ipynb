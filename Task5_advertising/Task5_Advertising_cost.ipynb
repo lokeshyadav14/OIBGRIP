{
  "nbformat": 4,
  "nbformat_minor": 0,
  "metadata": {
    "colab": {
      "provenance": []
    },
    "kernelspec": {
      "name": "python3",
      "display_name": "Python 3"
    },
    "language_info": {
      "name": "python"
    }
  },
  "cells": [
    {
      "cell_type": "code",
      "execution_count": 1,
      "metadata": {
        "id": "5X7TH5ueCAya"
      },
      "outputs": [],
      "source": [
        "# importing required libraries\n",
        "import pandas as pd\n",
        "import numpy as np\n",
        "import matplotlib.pyplot as plt\n",
        "import sklearn as sk"
      ]
    },
    {
      "cell_type": "markdown",
      "source": [
        "# Collecting dataset"
      ],
      "metadata": {
        "id": "dH4r5JC6C0Zj"
      }
    },
    {
      "cell_type": "code",
      "source": [
        "path = '/content/drive/MyDrive/Colab Notebooks/Advertising.csv'\n",
        "ad_cost_df = pd.read_csv(path)\n",
        "ad_cost_df.head()"
      ],
      "metadata": {
        "id": "oU85P1njCKwM",
        "colab": {
          "base_uri": "https://localhost:8080/",
          "height": 206
        },
        "outputId": "838feb40-b5aa-4af5-a2cb-89e1536101ca"
      },
      "execution_count": 2,
      "outputs": [
        {
          "output_type": "execute_result",
          "data": {
            "text/plain": [
              "   Unnamed: 0     TV  Radio  Newspaper  Sales\n",
              "0           1  230.1   37.8       69.2   22.1\n",
              "1           2   44.5   39.3       45.1   10.4\n",
              "2           3   17.2   45.9       69.3    9.3\n",
              "3           4  151.5   41.3       58.5   18.5\n",
              "4           5  180.8   10.8       58.4   12.9"
            ],
            "text/html": [
              "\n",
              "  <div id=\"df-21829e4b-fbd0-42f8-b3c3-2e98a5a47776\">\n",
              "    <div class=\"colab-df-container\">\n",
              "      <div>\n",
              "<style scoped>\n",
              "    .dataframe tbody tr th:only-of-type {\n",
              "        vertical-align: middle;\n",
              "    }\n",
              "\n",
              "    .dataframe tbody tr th {\n",
              "        vertical-align: top;\n",
              "    }\n",
              "\n",
              "    .dataframe thead th {\n",
              "        text-align: right;\n",
              "    }\n",
              "</style>\n",
              "<table border=\"1\" class=\"dataframe\">\n",
              "  <thead>\n",
              "    <tr style=\"text-align: right;\">\n",
              "      <th></th>\n",
              "      <th>Unnamed: 0</th>\n",
              "      <th>TV</th>\n",
              "      <th>Radio</th>\n",
              "      <th>Newspaper</th>\n",
              "      <th>Sales</th>\n",
              "    </tr>\n",
              "  </thead>\n",
              "  <tbody>\n",
              "    <tr>\n",
              "      <th>0</th>\n",
              "      <td>1</td>\n",
              "      <td>230.1</td>\n",
              "      <td>37.8</td>\n",
              "      <td>69.2</td>\n",
              "      <td>22.1</td>\n",
              "    </tr>\n",
              "    <tr>\n",
              "      <th>1</th>\n",
              "      <td>2</td>\n",
              "      <td>44.5</td>\n",
              "      <td>39.3</td>\n",
              "      <td>45.1</td>\n",
              "      <td>10.4</td>\n",
              "    </tr>\n",
              "    <tr>\n",
              "      <th>2</th>\n",
              "      <td>3</td>\n",
              "      <td>17.2</td>\n",
              "      <td>45.9</td>\n",
              "      <td>69.3</td>\n",
              "      <td>9.3</td>\n",
              "    </tr>\n",
              "    <tr>\n",
              "      <th>3</th>\n",
              "      <td>4</td>\n",
              "      <td>151.5</td>\n",
              "      <td>41.3</td>\n",
              "      <td>58.5</td>\n",
              "      <td>18.5</td>\n",
              "    </tr>\n",
              "    <tr>\n",
              "      <th>4</th>\n",
              "      <td>5</td>\n",
              "      <td>180.8</td>\n",
              "      <td>10.8</td>\n",
              "      <td>58.4</td>\n",
              "      <td>12.9</td>\n",
              "    </tr>\n",
              "  </tbody>\n",
              "</table>\n",
              "</div>\n",
              "      <button class=\"colab-df-convert\" onclick=\"convertToInteractive('df-21829e4b-fbd0-42f8-b3c3-2e98a5a47776')\"\n",
              "              title=\"Convert this dataframe to an interactive table.\"\n",
              "              style=\"display:none;\">\n",
              "        \n",
              "  <svg xmlns=\"http://www.w3.org/2000/svg\" height=\"24px\"viewBox=\"0 0 24 24\"\n",
              "       width=\"24px\">\n",
              "    <path d=\"M0 0h24v24H0V0z\" fill=\"none\"/>\n",
              "    <path d=\"M18.56 5.44l.94 2.06.94-2.06 2.06-.94-2.06-.94-.94-2.06-.94 2.06-2.06.94zm-11 1L8.5 8.5l.94-2.06 2.06-.94-2.06-.94L8.5 2.5l-.94 2.06-2.06.94zm10 10l.94 2.06.94-2.06 2.06-.94-2.06-.94-.94-2.06-.94 2.06-2.06.94z\"/><path d=\"M17.41 7.96l-1.37-1.37c-.4-.4-.92-.59-1.43-.59-.52 0-1.04.2-1.43.59L10.3 9.45l-7.72 7.72c-.78.78-.78 2.05 0 2.83L4 21.41c.39.39.9.59 1.41.59.51 0 1.02-.2 1.41-.59l7.78-7.78 2.81-2.81c.8-.78.8-2.07 0-2.86zM5.41 20L4 18.59l7.72-7.72 1.47 1.35L5.41 20z\"/>\n",
              "  </svg>\n",
              "      </button>\n",
              "      \n",
              "  <style>\n",
              "    .colab-df-container {\n",
              "      display:flex;\n",
              "      flex-wrap:wrap;\n",
              "      gap: 12px;\n",
              "    }\n",
              "\n",
              "    .colab-df-convert {\n",
              "      background-color: #E8F0FE;\n",
              "      border: none;\n",
              "      border-radius: 50%;\n",
              "      cursor: pointer;\n",
              "      display: none;\n",
              "      fill: #1967D2;\n",
              "      height: 32px;\n",
              "      padding: 0 0 0 0;\n",
              "      width: 32px;\n",
              "    }\n",
              "\n",
              "    .colab-df-convert:hover {\n",
              "      background-color: #E2EBFA;\n",
              "      box-shadow: 0px 1px 2px rgba(60, 64, 67, 0.3), 0px 1px 3px 1px rgba(60, 64, 67, 0.15);\n",
              "      fill: #174EA6;\n",
              "    }\n",
              "\n",
              "    [theme=dark] .colab-df-convert {\n",
              "      background-color: #3B4455;\n",
              "      fill: #D2E3FC;\n",
              "    }\n",
              "\n",
              "    [theme=dark] .colab-df-convert:hover {\n",
              "      background-color: #434B5C;\n",
              "      box-shadow: 0px 1px 3px 1px rgba(0, 0, 0, 0.15);\n",
              "      filter: drop-shadow(0px 1px 2px rgba(0, 0, 0, 0.3));\n",
              "      fill: #FFFFFF;\n",
              "    }\n",
              "  </style>\n",
              "\n",
              "      <script>\n",
              "        const buttonEl =\n",
              "          document.querySelector('#df-21829e4b-fbd0-42f8-b3c3-2e98a5a47776 button.colab-df-convert');\n",
              "        buttonEl.style.display =\n",
              "          google.colab.kernel.accessAllowed ? 'block' : 'none';\n",
              "\n",
              "        async function convertToInteractive(key) {\n",
              "          const element = document.querySelector('#df-21829e4b-fbd0-42f8-b3c3-2e98a5a47776');\n",
              "          const dataTable =\n",
              "            await google.colab.kernel.invokeFunction('convertToInteractive',\n",
              "                                                     [key], {});\n",
              "          if (!dataTable) return;\n",
              "\n",
              "          const docLinkHtml = 'Like what you see? Visit the ' +\n",
              "            '<a target=\"_blank\" href=https://colab.research.google.com/notebooks/data_table.ipynb>data table notebook</a>'\n",
              "            + ' to learn more about interactive tables.';\n",
              "          element.innerHTML = '';\n",
              "          dataTable['output_type'] = 'display_data';\n",
              "          await google.colab.output.renderOutput(dataTable, element);\n",
              "          const docLink = document.createElement('div');\n",
              "          docLink.innerHTML = docLinkHtml;\n",
              "          element.appendChild(docLink);\n",
              "        }\n",
              "      </script>\n",
              "    </div>\n",
              "  </div>\n",
              "  "
            ]
          },
          "metadata": {},
          "execution_count": 2
        }
      ]
    },
    {
      "cell_type": "code",
      "source": [
        "# removing first column which is just an index column\n",
        "ad_cost_df.drop(columns = ['Unnamed: 0'], inplace = True)\n",
        "ad_cost_df.head()"
      ],
      "metadata": {
        "colab": {
          "base_uri": "https://localhost:8080/",
          "height": 206
        },
        "id": "Wjlg3rJFDQSY",
        "outputId": "33e97da5-1e31-4cb3-c127-fc878ee57c0f"
      },
      "execution_count": 3,
      "outputs": [
        {
          "output_type": "execute_result",
          "data": {
            "text/plain": [
              "      TV  Radio  Newspaper  Sales\n",
              "0  230.1   37.8       69.2   22.1\n",
              "1   44.5   39.3       45.1   10.4\n",
              "2   17.2   45.9       69.3    9.3\n",
              "3  151.5   41.3       58.5   18.5\n",
              "4  180.8   10.8       58.4   12.9"
            ],
            "text/html": [
              "\n",
              "  <div id=\"df-f9485731-d17d-4da1-9d2c-666f3363bf2f\">\n",
              "    <div class=\"colab-df-container\">\n",
              "      <div>\n",
              "<style scoped>\n",
              "    .dataframe tbody tr th:only-of-type {\n",
              "        vertical-align: middle;\n",
              "    }\n",
              "\n",
              "    .dataframe tbody tr th {\n",
              "        vertical-align: top;\n",
              "    }\n",
              "\n",
              "    .dataframe thead th {\n",
              "        text-align: right;\n",
              "    }\n",
              "</style>\n",
              "<table border=\"1\" class=\"dataframe\">\n",
              "  <thead>\n",
              "    <tr style=\"text-align: right;\">\n",
              "      <th></th>\n",
              "      <th>TV</th>\n",
              "      <th>Radio</th>\n",
              "      <th>Newspaper</th>\n",
              "      <th>Sales</th>\n",
              "    </tr>\n",
              "  </thead>\n",
              "  <tbody>\n",
              "    <tr>\n",
              "      <th>0</th>\n",
              "      <td>230.1</td>\n",
              "      <td>37.8</td>\n",
              "      <td>69.2</td>\n",
              "      <td>22.1</td>\n",
              "    </tr>\n",
              "    <tr>\n",
              "      <th>1</th>\n",
              "      <td>44.5</td>\n",
              "      <td>39.3</td>\n",
              "      <td>45.1</td>\n",
              "      <td>10.4</td>\n",
              "    </tr>\n",
              "    <tr>\n",
              "      <th>2</th>\n",
              "      <td>17.2</td>\n",
              "      <td>45.9</td>\n",
              "      <td>69.3</td>\n",
              "      <td>9.3</td>\n",
              "    </tr>\n",
              "    <tr>\n",
              "      <th>3</th>\n",
              "      <td>151.5</td>\n",
              "      <td>41.3</td>\n",
              "      <td>58.5</td>\n",
              "      <td>18.5</td>\n",
              "    </tr>\n",
              "    <tr>\n",
              "      <th>4</th>\n",
              "      <td>180.8</td>\n",
              "      <td>10.8</td>\n",
              "      <td>58.4</td>\n",
              "      <td>12.9</td>\n",
              "    </tr>\n",
              "  </tbody>\n",
              "</table>\n",
              "</div>\n",
              "      <button class=\"colab-df-convert\" onclick=\"convertToInteractive('df-f9485731-d17d-4da1-9d2c-666f3363bf2f')\"\n",
              "              title=\"Convert this dataframe to an interactive table.\"\n",
              "              style=\"display:none;\">\n",
              "        \n",
              "  <svg xmlns=\"http://www.w3.org/2000/svg\" height=\"24px\"viewBox=\"0 0 24 24\"\n",
              "       width=\"24px\">\n",
              "    <path d=\"M0 0h24v24H0V0z\" fill=\"none\"/>\n",
              "    <path d=\"M18.56 5.44l.94 2.06.94-2.06 2.06-.94-2.06-.94-.94-2.06-.94 2.06-2.06.94zm-11 1L8.5 8.5l.94-2.06 2.06-.94-2.06-.94L8.5 2.5l-.94 2.06-2.06.94zm10 10l.94 2.06.94-2.06 2.06-.94-2.06-.94-.94-2.06-.94 2.06-2.06.94z\"/><path d=\"M17.41 7.96l-1.37-1.37c-.4-.4-.92-.59-1.43-.59-.52 0-1.04.2-1.43.59L10.3 9.45l-7.72 7.72c-.78.78-.78 2.05 0 2.83L4 21.41c.39.39.9.59 1.41.59.51 0 1.02-.2 1.41-.59l7.78-7.78 2.81-2.81c.8-.78.8-2.07 0-2.86zM5.41 20L4 18.59l7.72-7.72 1.47 1.35L5.41 20z\"/>\n",
              "  </svg>\n",
              "      </button>\n",
              "      \n",
              "  <style>\n",
              "    .colab-df-container {\n",
              "      display:flex;\n",
              "      flex-wrap:wrap;\n",
              "      gap: 12px;\n",
              "    }\n",
              "\n",
              "    .colab-df-convert {\n",
              "      background-color: #E8F0FE;\n",
              "      border: none;\n",
              "      border-radius: 50%;\n",
              "      cursor: pointer;\n",
              "      display: none;\n",
              "      fill: #1967D2;\n",
              "      height: 32px;\n",
              "      padding: 0 0 0 0;\n",
              "      width: 32px;\n",
              "    }\n",
              "\n",
              "    .colab-df-convert:hover {\n",
              "      background-color: #E2EBFA;\n",
              "      box-shadow: 0px 1px 2px rgba(60, 64, 67, 0.3), 0px 1px 3px 1px rgba(60, 64, 67, 0.15);\n",
              "      fill: #174EA6;\n",
              "    }\n",
              "\n",
              "    [theme=dark] .colab-df-convert {\n",
              "      background-color: #3B4455;\n",
              "      fill: #D2E3FC;\n",
              "    }\n",
              "\n",
              "    [theme=dark] .colab-df-convert:hover {\n",
              "      background-color: #434B5C;\n",
              "      box-shadow: 0px 1px 3px 1px rgba(0, 0, 0, 0.15);\n",
              "      filter: drop-shadow(0px 1px 2px rgba(0, 0, 0, 0.3));\n",
              "      fill: #FFFFFF;\n",
              "    }\n",
              "  </style>\n",
              "\n",
              "      <script>\n",
              "        const buttonEl =\n",
              "          document.querySelector('#df-f9485731-d17d-4da1-9d2c-666f3363bf2f button.colab-df-convert');\n",
              "        buttonEl.style.display =\n",
              "          google.colab.kernel.accessAllowed ? 'block' : 'none';\n",
              "\n",
              "        async function convertToInteractive(key) {\n",
              "          const element = document.querySelector('#df-f9485731-d17d-4da1-9d2c-666f3363bf2f');\n",
              "          const dataTable =\n",
              "            await google.colab.kernel.invokeFunction('convertToInteractive',\n",
              "                                                     [key], {});\n",
              "          if (!dataTable) return;\n",
              "\n",
              "          const docLinkHtml = 'Like what you see? Visit the ' +\n",
              "            '<a target=\"_blank\" href=https://colab.research.google.com/notebooks/data_table.ipynb>data table notebook</a>'\n",
              "            + ' to learn more about interactive tables.';\n",
              "          element.innerHTML = '';\n",
              "          dataTable['output_type'] = 'display_data';\n",
              "          await google.colab.output.renderOutput(dataTable, element);\n",
              "          const docLink = document.createElement('div');\n",
              "          docLink.innerHTML = docLinkHtml;\n",
              "          element.appendChild(docLink);\n",
              "        }\n",
              "      </script>\n",
              "    </div>\n",
              "  </div>\n",
              "  "
            ]
          },
          "metadata": {},
          "execution_count": 3
        }
      ]
    },
    {
      "cell_type": "markdown",
      "source": [
        "# Analyzing data"
      ],
      "metadata": {
        "id": "Hip4tHnVEsAI"
      }
    },
    {
      "cell_type": "code",
      "source": [
        "ad_cost_df.info()"
      ],
      "metadata": {
        "colab": {
          "base_uri": "https://localhost:8080/"
        },
        "id": "qZbrK88DDv0q",
        "outputId": "8eb49b91-1140-4303-9be3-2f690b113778"
      },
      "execution_count": 4,
      "outputs": [
        {
          "output_type": "stream",
          "name": "stdout",
          "text": [
            "<class 'pandas.core.frame.DataFrame'>\n",
            "RangeIndex: 200 entries, 0 to 199\n",
            "Data columns (total 4 columns):\n",
            " #   Column     Non-Null Count  Dtype  \n",
            "---  ------     --------------  -----  \n",
            " 0   TV         200 non-null    float64\n",
            " 1   Radio      200 non-null    float64\n",
            " 2   Newspaper  200 non-null    float64\n",
            " 3   Sales      200 non-null    float64\n",
            "dtypes: float64(4)\n",
            "memory usage: 6.4 KB\n"
          ]
        }
      ]
    },
    {
      "cell_type": "markdown",
      "source": [
        "It contain 199 rows and 4 columns of data type float"
      ],
      "metadata": {
        "id": "dkpdpNW1E4d1"
      }
    },
    {
      "cell_type": "code",
      "source": [
        "ad_cost_df.describe()"
      ],
      "metadata": {
        "colab": {
          "base_uri": "https://localhost:8080/",
          "height": 300
        },
        "id": "chhJ2gAqE0jI",
        "outputId": "84e1606e-0f5c-4bb8-b7dd-741337ae2746"
      },
      "execution_count": 5,
      "outputs": [
        {
          "output_type": "execute_result",
          "data": {
            "text/plain": [
              "               TV       Radio   Newspaper       Sales\n",
              "count  200.000000  200.000000  200.000000  200.000000\n",
              "mean   147.042500   23.264000   30.554000   14.022500\n",
              "std     85.854236   14.846809   21.778621    5.217457\n",
              "min      0.700000    0.000000    0.300000    1.600000\n",
              "25%     74.375000    9.975000   12.750000   10.375000\n",
              "50%    149.750000   22.900000   25.750000   12.900000\n",
              "75%    218.825000   36.525000   45.100000   17.400000\n",
              "max    296.400000   49.600000  114.000000   27.000000"
            ],
            "text/html": [
              "\n",
              "  <div id=\"df-061b28bd-0e02-4aae-bfa8-f52ee3cb3169\">\n",
              "    <div class=\"colab-df-container\">\n",
              "      <div>\n",
              "<style scoped>\n",
              "    .dataframe tbody tr th:only-of-type {\n",
              "        vertical-align: middle;\n",
              "    }\n",
              "\n",
              "    .dataframe tbody tr th {\n",
              "        vertical-align: top;\n",
              "    }\n",
              "\n",
              "    .dataframe thead th {\n",
              "        text-align: right;\n",
              "    }\n",
              "</style>\n",
              "<table border=\"1\" class=\"dataframe\">\n",
              "  <thead>\n",
              "    <tr style=\"text-align: right;\">\n",
              "      <th></th>\n",
              "      <th>TV</th>\n",
              "      <th>Radio</th>\n",
              "      <th>Newspaper</th>\n",
              "      <th>Sales</th>\n",
              "    </tr>\n",
              "  </thead>\n",
              "  <tbody>\n",
              "    <tr>\n",
              "      <th>count</th>\n",
              "      <td>200.000000</td>\n",
              "      <td>200.000000</td>\n",
              "      <td>200.000000</td>\n",
              "      <td>200.000000</td>\n",
              "    </tr>\n",
              "    <tr>\n",
              "      <th>mean</th>\n",
              "      <td>147.042500</td>\n",
              "      <td>23.264000</td>\n",
              "      <td>30.554000</td>\n",
              "      <td>14.022500</td>\n",
              "    </tr>\n",
              "    <tr>\n",
              "      <th>std</th>\n",
              "      <td>85.854236</td>\n",
              "      <td>14.846809</td>\n",
              "      <td>21.778621</td>\n",
              "      <td>5.217457</td>\n",
              "    </tr>\n",
              "    <tr>\n",
              "      <th>min</th>\n",
              "      <td>0.700000</td>\n",
              "      <td>0.000000</td>\n",
              "      <td>0.300000</td>\n",
              "      <td>1.600000</td>\n",
              "    </tr>\n",
              "    <tr>\n",
              "      <th>25%</th>\n",
              "      <td>74.375000</td>\n",
              "      <td>9.975000</td>\n",
              "      <td>12.750000</td>\n",
              "      <td>10.375000</td>\n",
              "    </tr>\n",
              "    <tr>\n",
              "      <th>50%</th>\n",
              "      <td>149.750000</td>\n",
              "      <td>22.900000</td>\n",
              "      <td>25.750000</td>\n",
              "      <td>12.900000</td>\n",
              "    </tr>\n",
              "    <tr>\n",
              "      <th>75%</th>\n",
              "      <td>218.825000</td>\n",
              "      <td>36.525000</td>\n",
              "      <td>45.100000</td>\n",
              "      <td>17.400000</td>\n",
              "    </tr>\n",
              "    <tr>\n",
              "      <th>max</th>\n",
              "      <td>296.400000</td>\n",
              "      <td>49.600000</td>\n",
              "      <td>114.000000</td>\n",
              "      <td>27.000000</td>\n",
              "    </tr>\n",
              "  </tbody>\n",
              "</table>\n",
              "</div>\n",
              "      <button class=\"colab-df-convert\" onclick=\"convertToInteractive('df-061b28bd-0e02-4aae-bfa8-f52ee3cb3169')\"\n",
              "              title=\"Convert this dataframe to an interactive table.\"\n",
              "              style=\"display:none;\">\n",
              "        \n",
              "  <svg xmlns=\"http://www.w3.org/2000/svg\" height=\"24px\"viewBox=\"0 0 24 24\"\n",
              "       width=\"24px\">\n",
              "    <path d=\"M0 0h24v24H0V0z\" fill=\"none\"/>\n",
              "    <path d=\"M18.56 5.44l.94 2.06.94-2.06 2.06-.94-2.06-.94-.94-2.06-.94 2.06-2.06.94zm-11 1L8.5 8.5l.94-2.06 2.06-.94-2.06-.94L8.5 2.5l-.94 2.06-2.06.94zm10 10l.94 2.06.94-2.06 2.06-.94-2.06-.94-.94-2.06-.94 2.06-2.06.94z\"/><path d=\"M17.41 7.96l-1.37-1.37c-.4-.4-.92-.59-1.43-.59-.52 0-1.04.2-1.43.59L10.3 9.45l-7.72 7.72c-.78.78-.78 2.05 0 2.83L4 21.41c.39.39.9.59 1.41.59.51 0 1.02-.2 1.41-.59l7.78-7.78 2.81-2.81c.8-.78.8-2.07 0-2.86zM5.41 20L4 18.59l7.72-7.72 1.47 1.35L5.41 20z\"/>\n",
              "  </svg>\n",
              "      </button>\n",
              "      \n",
              "  <style>\n",
              "    .colab-df-container {\n",
              "      display:flex;\n",
              "      flex-wrap:wrap;\n",
              "      gap: 12px;\n",
              "    }\n",
              "\n",
              "    .colab-df-convert {\n",
              "      background-color: #E8F0FE;\n",
              "      border: none;\n",
              "      border-radius: 50%;\n",
              "      cursor: pointer;\n",
              "      display: none;\n",
              "      fill: #1967D2;\n",
              "      height: 32px;\n",
              "      padding: 0 0 0 0;\n",
              "      width: 32px;\n",
              "    }\n",
              "\n",
              "    .colab-df-convert:hover {\n",
              "      background-color: #E2EBFA;\n",
              "      box-shadow: 0px 1px 2px rgba(60, 64, 67, 0.3), 0px 1px 3px 1px rgba(60, 64, 67, 0.15);\n",
              "      fill: #174EA6;\n",
              "    }\n",
              "\n",
              "    [theme=dark] .colab-df-convert {\n",
              "      background-color: #3B4455;\n",
              "      fill: #D2E3FC;\n",
              "    }\n",
              "\n",
              "    [theme=dark] .colab-df-convert:hover {\n",
              "      background-color: #434B5C;\n",
              "      box-shadow: 0px 1px 3px 1px rgba(0, 0, 0, 0.15);\n",
              "      filter: drop-shadow(0px 1px 2px rgba(0, 0, 0, 0.3));\n",
              "      fill: #FFFFFF;\n",
              "    }\n",
              "  </style>\n",
              "\n",
              "      <script>\n",
              "        const buttonEl =\n",
              "          document.querySelector('#df-061b28bd-0e02-4aae-bfa8-f52ee3cb3169 button.colab-df-convert');\n",
              "        buttonEl.style.display =\n",
              "          google.colab.kernel.accessAllowed ? 'block' : 'none';\n",
              "\n",
              "        async function convertToInteractive(key) {\n",
              "          const element = document.querySelector('#df-061b28bd-0e02-4aae-bfa8-f52ee3cb3169');\n",
              "          const dataTable =\n",
              "            await google.colab.kernel.invokeFunction('convertToInteractive',\n",
              "                                                     [key], {});\n",
              "          if (!dataTable) return;\n",
              "\n",
              "          const docLinkHtml = 'Like what you see? Visit the ' +\n",
              "            '<a target=\"_blank\" href=https://colab.research.google.com/notebooks/data_table.ipynb>data table notebook</a>'\n",
              "            + ' to learn more about interactive tables.';\n",
              "          element.innerHTML = '';\n",
              "          dataTable['output_type'] = 'display_data';\n",
              "          await google.colab.output.renderOutput(dataTable, element);\n",
              "          const docLink = document.createElement('div');\n",
              "          docLink.innerHTML = docLinkHtml;\n",
              "          element.appendChild(docLink);\n",
              "        }\n",
              "      </script>\n",
              "    </div>\n",
              "  </div>\n",
              "  "
            ]
          },
          "metadata": {},
          "execution_count": 5
        }
      ]
    },
    {
      "cell_type": "code",
      "source": [
        "ad_cost_df.isnull().sum()"
      ],
      "metadata": {
        "colab": {
          "base_uri": "https://localhost:8080/"
        },
        "id": "Mam217SKHjDG",
        "outputId": "dec73c4b-2124-40d1-8605-1191645aaf66"
      },
      "execution_count": 6,
      "outputs": [
        {
          "output_type": "execute_result",
          "data": {
            "text/plain": [
              "TV           0\n",
              "Radio        0\n",
              "Newspaper    0\n",
              "Sales        0\n",
              "dtype: int64"
            ]
          },
          "metadata": {},
          "execution_count": 6
        }
      ]
    },
    {
      "cell_type": "markdown",
      "source": [
        "It does not contain any null values"
      ],
      "metadata": {
        "id": "tfUKwZ7pHsL4"
      }
    },
    {
      "cell_type": "code",
      "source": [
        "plt.hist(ad_cost_df['TV'])\n",
        "plt.xlabel('Cost')\n",
        "plt.ylabel('Count')\n",
        "plt.show()"
      ],
      "metadata": {
        "colab": {
          "base_uri": "https://localhost:8080/",
          "height": 279
        },
        "id": "o5oZxMG2GOyQ",
        "outputId": "076be50e-22fa-48ba-8fcb-44a4c1e02c83"
      },
      "execution_count": 7,
      "outputs": [
        {
          "output_type": "display_data",
          "data": {
            "text/plain": [
              "<Figure size 432x288 with 1 Axes>"
            ],
            "image/png": "[encoded data removed]"
          },
          "metadata": {
            "needs_background": "light"
          }
        }
      ]
    },
    {
      "cell_type": "markdown",
      "source": [
        "Above graph shows that people spends much money for advertising through TV."
      ],
      "metadata": {
        "id": "96nwc001LbVs"
      }
    },
    {
      "cell_type": "code",
      "source": [
        "plt.hist(ad_cost_df['Radio'])\n",
        "plt.xlabel('Cost')\n",
        "plt.ylabel('Count')\n",
        "plt.show()"
      ],
      "metadata": {
        "colab": {
          "base_uri": "https://localhost:8080/",
          "height": 279
        },
        "id": "xUPtOJ8bKPja",
        "outputId": "621e7e1d-043a-4790-efad-307ae7f36f2d"
      },
      "execution_count": 8,
      "outputs": [
        {
          "output_type": "display_data",
          "data": {
            "text/plain": [
              "<Figure size 432x288 with 1 Axes>"
            ],
            "image/png": "[encoded data removed]"
          },
          "metadata": {
            "needs_background": "light"
          }
        }
      ]
    },
    {
      "cell_type": "markdown",
      "source": [
        "People spends minimum amount of money in Radio advertising."
      ],
      "metadata": {
        "id": "uk5Nj9WxMRzz"
      }
    },
    {
      "cell_type": "code",
      "source": [
        "plt.hist(ad_cost_df['Newspaper'])\n",
        "plt.xlabel('Cost')\n",
        "plt.ylabel('Count')\n",
        "plt.show()"
      ],
      "metadata": {
        "colab": {
          "base_uri": "https://localhost:8080/",
          "height": 279
        },
        "id": "abM3V1RlKpXK",
        "outputId": "d79d16e4-8f82-4050-883a-b23b346c3ff7"
      },
      "execution_count": 9,
      "outputs": [
        {
          "output_type": "display_data",
          "data": {
            "text/plain": [
              "<Figure size 432x288 with 1 Axes>"
            ],
            "image/png": "[encoded data removed]"
          },
          "metadata": {
            "needs_background": "light"
          }
        }
      ]
    },
    {
      "cell_type": "code",
      "source": [
        "# to find the pairwise correlation of all columns\n",
        "ad_cost_df.corr()"
      ],
      "metadata": {
        "colab": {
          "base_uri": "https://localhost:8080/",
          "height": 175
        },
        "id": "9goUJuI-K4nS",
        "outputId": "201b8804-ae53-415e-c287-f9376d077a25"
      },
      "execution_count": 10,
      "outputs": [
        {
          "output_type": "execute_result",
          "data": {
            "text/plain": [
              "                 TV     Radio  Newspaper     Sales\n",
              "TV         1.000000  0.054809   0.056648  0.782224\n",
              "Radio      0.054809  1.000000   0.354104  0.576223\n",
              "Newspaper  0.056648  0.354104   1.000000  0.228299\n",
              "Sales      0.782224  0.576223   0.228299  1.000000"
            ],
            "text/html": [
              "\n",
              "  <div id=\"df-037cb539-c47c-49c5-ac1b-0de724ae6c24\">\n",
              "    <div class=\"colab-df-container\">\n",
              "      <div>\n",
              "<style scoped>\n",
              "    .dataframe tbody tr th:only-of-type {\n",
              "        vertical-align: middle;\n",
              "    }\n",
              "\n",
              "    .dataframe tbody tr th {\n",
              "        vertical-align: top;\n",
              "    }\n",
              "\n",
              "    .dataframe thead th {\n",
              "        text-align: right;\n",
              "    }\n",
              "</style>\n",
              "<table border=\"1\" class=\"dataframe\">\n",
              "  <thead>\n",
              "    <tr style=\"text-align: right;\">\n",
              "      <th></th>\n",
              "      <th>TV</th>\n",
              "      <th>Radio</th>\n",
              "      <th>Newspaper</th>\n",
              "      <th>Sales</th>\n",
              "    </tr>\n",
              "  </thead>\n",
              "  <tbody>\n",
              "    <tr>\n",
              "      <th>TV</th>\n",
              "      <td>1.000000</td>\n",
              "      <td>0.054809</td>\n",
              "      <td>0.056648</td>\n",
              "      <td>0.782224</td>\n",
              "    </tr>\n",
              "    <tr>\n",
              "      <th>Radio</th>\n",
              "      <td>0.054809</td>\n",
              "      <td>1.000000</td>\n",
              "      <td>0.354104</td>\n",
              "      <td>0.576223</td>\n",
              "    </tr>\n",
              "    <tr>\n",
              "      <th>Newspaper</th>\n",
              "      <td>0.056648</td>\n",
              "      <td>0.354104</td>\n",
              "      <td>1.000000</td>\n",
              "      <td>0.228299</td>\n",
              "    </tr>\n",
              "    <tr>\n",
              "      <th>Sales</th>\n",
              "      <td>0.782224</td>\n",
              "      <td>0.576223</td>\n",
              "      <td>0.228299</td>\n",
              "      <td>1.000000</td>\n",
              "    </tr>\n",
              "  </tbody>\n",
              "</table>\n",
              "</div>\n",
              "      <button class=\"colab-df-convert\" onclick=\"convertToInteractive('df-037cb539-c47c-49c5-ac1b-0de724ae6c24')\"\n",
              "              title=\"Convert this dataframe to an interactive table.\"\n",
              "              style=\"display:none;\">\n",
              "        \n",
              "  <svg xmlns=\"http://www.w3.org/2000/svg\" height=\"24px\"viewBox=\"0 0 24 24\"\n",
              "       width=\"24px\">\n",
              "    <path d=\"M0 0h24v24H0V0z\" fill=\"none\"/>\n",
              "    <path d=\"M18.56 5.44l.94 2.06.94-2.06 2.06-.94-2.06-.94-.94-2.06-.94 2.06-2.06.94zm-11 1L8.5 8.5l.94-2.06 2.06-.94-2.06-.94L8.5 2.5l-.94 2.06-2.06.94zm10 10l.94 2.06.94-2.06 2.06-.94-2.06-.94-.94-2.06-.94 2.06-2.06.94z\"/><path d=\"M17.41 7.96l-1.37-1.37c-.4-.4-.92-.59-1.43-.59-.52 0-1.04.2-1.43.59L10.3 9.45l-7.72 7.72c-.78.78-.78 2.05 0 2.83L4 21.41c.39.39.9.59 1.41.59.51 0 1.02-.2 1.41-.59l7.78-7.78 2.81-2.81c.8-.78.8-2.07 0-2.86zM5.41 20L4 18.59l7.72-7.72 1.47 1.35L5.41 20z\"/>\n",
              "  </svg>\n",
              "      </button>\n",
              "      \n",
              "  <style>\n",
              "    .colab-df-container {\n",
              "      display:flex;\n",
              "      flex-wrap:wrap;\n",
              "      gap: 12px;\n",
              "    }\n",
              "\n",
              "    .colab-df-convert {\n",
              "      background-color: #E8F0FE;\n",
              "      border: none;\n",
              "      border-radius: 50%;\n",
              "      cursor: pointer;\n",
              "      display: none;\n",
              "      fill: #1967D2;\n",
              "      height: 32px;\n",
              "      padding: 0 0 0 0;\n",
              "      width: 32px;\n",
              "    }\n",
              "\n",
              "    .colab-df-convert:hover {\n",
              "      background-color: #E2EBFA;\n",
              "      box-shadow: 0px 1px 2px rgba(60, 64, 67, 0.3), 0px 1px 3px 1px rgba(60, 64, 67, 0.15);\n",
              "      fill: #174EA6;\n",
              "    }\n",
              "\n",
              "    [theme=dark] .colab-df-convert {\n",
              "      background-color: #3B4455;\n",
              "      fill: #D2E3FC;\n",
              "    }\n",
              "\n",
              "    [theme=dark] .colab-df-convert:hover {\n",
              "      background-color: #434B5C;\n",
              "      box-shadow: 0px 1px 3px 1px rgba(0, 0, 0, 0.15);\n",
              "      filter: drop-shadow(0px 1px 2px rgba(0, 0, 0, 0.3));\n",
              "      fill: #FFFFFF;\n",
              "    }\n",
              "  </style>\n",
              "\n",
              "      <script>\n",
              "        const buttonEl =\n",
              "          document.querySelector('#df-037cb539-c47c-49c5-ac1b-0de724ae6c24 button.colab-df-convert');\n",
              "        buttonEl.style.display =\n",
              "          google.colab.kernel.accessAllowed ? 'block' : 'none';\n",
              "\n",
              "        async function convertToInteractive(key) {\n",
              "          const element = document.querySelector('#df-037cb539-c47c-49c5-ac1b-0de724ae6c24');\n",
              "          const dataTable =\n",
              "            await google.colab.kernel.invokeFunction('convertToInteractive',\n",
              "                                                     [key], {});\n",
              "          if (!dataTable) return;\n",
              "\n",
              "          const docLinkHtml = 'Like what you see? Visit the ' +\n",
              "            '<a target=\"_blank\" href=https://colab.research.google.com/notebooks/data_table.ipynb>data table notebook</a>'\n",
              "            + ' to learn more about interactive tables.';\n",
              "          element.innerHTML = '';\n",
              "          dataTable['output_type'] = 'display_data';\n",
              "          await google.colab.output.renderOutput(dataTable, element);\n",
              "          const docLink = document.createElement('div');\n",
              "          docLink.innerHTML = docLinkHtml;\n",
              "          element.appendChild(docLink);\n",
              "        }\n",
              "      </script>\n",
              "    </div>\n",
              "  </div>\n",
              "  "
            ]
          },
          "metadata": {},
          "execution_count": 10
        }
      ]
    },
    {
      "cell_type": "markdown",
      "source": [
        "Sales is mostly depends on TV advertising."
      ],
      "metadata": {
        "id": "FAK7yOoRQLvn"
      }
    },
    {
      "cell_type": "markdown",
      "source": [
        "# Model training\n",
        "\n",
        "Since our output variable is a continuous so we using Linear Regression and KNN algorithm to train our ML model."
      ],
      "metadata": {
        "id": "nJeoy1eGQrvr"
      }
    },
    {
      "cell_type": "markdown",
      "source": [
        "**Splitting dataset**"
      ],
      "metadata": {
        "id": "4Xt2POzwQ4Fl"
      }
    },
    {
      "cell_type": "code",
      "source": [
        "# feature variables\n",
        "X = ad_cost_df.drop(columns = ['Sales'])\n",
        "# output variable\n",
        "Y = ad_cost_df['Sales']\n",
        "\n",
        "from sklearn.model_selection import train_test_split\n",
        "x_train, x_test, y_train, y_test = train_test_split(X, Y, test_size = 0.29, random_state=7)\n",
        "\n",
        "print('Size of training dataset X : ', x_train.shape)\n",
        "print('Size of training dataset Y : ', y_train.shape)\n",
        "print('Size of testing dataset X : ', x_test.shape)\n",
        "print('Size of testing dataset Y : ', y_test.shape)"
      ],
      "metadata": {
        "colab": {
          "base_uri": "https://localhost:8080/"
        },
        "id": "-sYRqxKZNTqa",
        "outputId": "0c08aeb5-be97-4655-c561-e799509a8a06"
      },
      "execution_count": 11,
      "outputs": [
        {
          "output_type": "stream",
          "name": "stdout",
          "text": [
            "Size of training dataset X :  (142, 3)\n",
            "Size of training dataset Y :  (142,)\n",
            "Size of testing dataset X :  (58, 3)\n",
            "Size of testing dataset Y :  (58,)\n"
          ]
        }
      ]
    },
    {
      "cell_type": "markdown",
      "source": [
        "**Linear Regression**"
      ],
      "metadata": {
        "id": "Ce5j2V7eSyEK"
      }
    },
    {
      "cell_type": "code",
      "source": [
        "from sklearn.linear_model import LinearRegression\n",
        "\n",
        "LR_model = LinearRegression()\n",
        "LR_model.fit(x_train, y_train)\n",
        "print('Accuracy of Linear Regression Model : ', LR_model.score(x_test, y_test))"
      ],
      "metadata": {
        "colab": {
          "base_uri": "https://localhost:8080/"
        },
        "id": "Jc8mGh4FRM1w",
        "outputId": "1ef6f664-4834-4c61-8936-5ab81b244fe8"
      },
      "execution_count": 12,
      "outputs": [
        {
          "output_type": "stream",
          "name": "stdout",
          "text": [
            "Accuracy of Linear Regression Model :  0.8889293598910791\n"
          ]
        }
      ]
    },
    {
      "cell_type": "markdown",
      "source": [
        "**K Nearest Neighbor**"
      ],
      "metadata": {
        "id": "LjBfipFVYKuP"
      }
    },
    {
      "cell_type": "code",
      "source": [
        "from sklearn.neighbors import KNeighborsRegressor\n",
        "\n",
        "KNN_model = KNeighborsRegressor(n_neighbors=2)\n",
        "KNN_model.fit(x_train, y_train)\n",
        "print('Accuracy of K-Nearest Neighbor Model : ', KNN_model.score(x_test, y_test))"
      ],
      "metadata": {
        "colab": {
          "base_uri": "https://localhost:8080/"
        },
        "id": "1Dlu7XWfTfpR",
        "outputId": "79d65b77-1732-448f-cffa-e7920dc5884c"
      },
      "execution_count": 13,
      "outputs": [
        {
          "output_type": "stream",
          "name": "stdout",
          "text": [
            "Accuracy of K-Nearest Neighbor Model :  0.9437702973595619\n"
          ]
        }
      ]
    },
    {
      "cell_type": "markdown",
      "source": [
        "# Model Evaluation"
      ],
      "metadata": {
        "id": "ujwyVNfIZK53"
      }
    },
    {
      "cell_type": "code",
      "source": [
        "from sklearn.metrics import r2_score"
      ],
      "metadata": {
        "id": "yXlZh3J0ZYdg"
      },
      "execution_count": 14,
      "outputs": []
    },
    {
      "cell_type": "markdown",
      "source": [
        "R2 values are used to calculate a measure of how close the predicted values are to the true values."
      ],
      "metadata": {
        "id": "N0edEBRWbx0_"
      }
    },
    {
      "cell_type": "code",
      "source": [
        "actual_sales = np.array(y_test) # since y_test is of type pandas Series\n",
        "\n",
        "predicted_sales_fromLR = LR_model.predict(x_test)\n",
        "print('R2 score of Linear Regression Model :', r2_score(predicted_sales_fromLR, actual_sales))\n",
        "\n",
        "predicted_sales_fromKNN = KNN_model.predict(x_test)\n",
        "print('R2 score of K-Nearest Neighbors Model :', r2_score(predicted_sales_fromKNN, actual_sales))"
      ],
      "metadata": {
        "colab": {
          "base_uri": "https://localhost:8080/"
        },
        "id": "FcVq6E8xTSA4",
        "outputId": "20f68a44-7cfb-484a-89ee-5e37484da8f6"
      },
      "execution_count": 15,
      "outputs": [
        {
          "output_type": "stream",
          "name": "stdout",
          "text": [
            "R2 score of Linear Regression Model : 0.8942091798674691\n",
            "R2 score of K-Nearest Neighbors Model : 0.9384462150429702\n"
          ]
        }
      ]
    },
    {
      "cell_type": "markdown",
      "source": [
        "**From Linear Regression and K-Nearest Neigbhor model 'K-Nearest Neighbor' is more accurate.**"
      ],
      "metadata": {
        "id": "bQGWNIXye8Cr"
      }
    },
    {
      "cell_type": "markdown",
      "source": [
        "# Predictions"
      ],
      "metadata": {
        "id": "Z-aNcCskc6Lg"
      }
    },
    {
      "cell_type": "code",
      "source": [
        "for i in range(len(y_test)):\n",
        "  print('Prediction -> Linear Regression  |  K-Nearest Neighbors')\n",
        "  print('             ', predicted_sales_fromLR[i], '    ', predicted_sales_fromKNN[i])\n",
        "  print('Actual Sale : ', actual_sales[i], '\\n')"
      ],
      "metadata": {
        "colab": {
          "base_uri": "https://localhost:8080/"
        },
        "id": "Zqu-zP_xT4QI",
        "outputId": "9d3c34cc-cb42-455c-f5d9-6d68a8e9013f"
      },
      "execution_count": 16,
      "outputs": [
        {
          "output_type": "stream",
          "name": "stdout",
          "text": [
            "Prediction -> Linear Regression  |  K-Nearest Neighbors\n",
            "              11.438246807737876      11.100000000000001\n",
            "Actual Sale :  12.0 \n",
            "\n",
            "Prediction -> Linear Regression  |  K-Nearest Neighbors\n",
            "              14.36059199178442      15.7\n",
            "Actual Sale :  15.5 \n",
            "\n",
            "Prediction -> Linear Regression  |  K-Nearest Neighbors\n",
            "              6.228340353771593      7.0\n",
            "Actual Sale :  5.6 \n",
            "\n",
            "Prediction -> Linear Regression  |  K-Nearest Neighbors\n",
            "              17.31350108541198      17.15\n",
            "Actual Sale :  17.4 \n",
            "\n",
            "Prediction -> Linear Regression  |  K-Nearest Neighbors\n",
            "              5.098430786535022      7.65\n",
            "Actual Sale :  7.6 \n",
            "\n",
            "Prediction -> Linear Regression  |  K-Nearest Neighbors\n",
            "              12.132100316480267      8.2\n",
            "Actual Sale :  9.3 \n",
            "\n",
            "Prediction -> Linear Regression  |  K-Nearest Neighbors\n",
            "              7.599155817312332      7.0\n",
            "Actual Sale :  7.0 \n",
            "\n",
            "Prediction -> Linear Regression  |  K-Nearest Neighbors\n",
            "              10.333802351559044      11.3\n",
            "Actual Sale :  11.5 \n",
            "\n",
            "Prediction -> Linear Regression  |  K-Nearest Neighbors\n",
            "              8.775339335915124      10.15\n",
            "Actual Sale :  9.5 \n",
            "\n",
            "Prediction -> Linear Regression  |  K-Nearest Neighbors\n",
            "              13.089571876705127      13.7\n",
            "Actual Sale :  14.0 \n",
            "\n",
            "Prediction -> Linear Regression  |  K-Nearest Neighbors\n",
            "              3.2775432110920186      6.300000000000001\n",
            "Actual Sale :  5.3 \n",
            "\n",
            "Prediction -> Linear Regression  |  K-Nearest Neighbors\n",
            "              12.593335367566318      11.399999999999999\n",
            "Actual Sale :  11.7 \n",
            "\n",
            "Prediction -> Linear Regression  |  K-Nearest Neighbors\n",
            "              9.55787809530721      10.1\n",
            "Actual Sale :  9.6 \n",
            "\n",
            "Prediction -> Linear Regression  |  K-Nearest Neighbors\n",
            "              7.627938775161932      9.850000000000001\n",
            "Actual Sale :  9.3 \n",
            "\n",
            "Prediction -> Linear Regression  |  K-Nearest Neighbors\n",
            "              18.754371567992344      16.75\n",
            "Actual Sale :  15.9 \n",
            "\n",
            "Prediction -> Linear Regression  |  K-Nearest Neighbors\n",
            "              4.998938544139824      5.25\n",
            "Actual Sale :  3.2 \n",
            "\n",
            "Prediction -> Linear Regression  |  K-Nearest Neighbors\n",
            "              7.9328375212147595      8.5\n",
            "Actual Sale :  9.7 \n",
            "\n",
            "Prediction -> Linear Regression  |  K-Nearest Neighbors\n",
            "              16.91561964483808      18.6\n",
            "Actual Sale :  17.2 \n",
            "\n",
            "Prediction -> Linear Regression  |  K-Nearest Neighbors\n",
            "              18.243105167196703      17.0\n",
            "Actual Sale :  19.0 \n",
            "\n",
            "Prediction -> Linear Regression  |  K-Nearest Neighbors\n",
            "              8.703619012573714      11.0\n",
            "Actual Sale :  10.6 \n",
            "\n",
            "Prediction -> Linear Regression  |  K-Nearest Neighbors\n",
            "              16.09220032466585      13.4\n",
            "Actual Sale :  11.8 \n",
            "\n",
            "Prediction -> Linear Regression  |  K-Nearest Neighbors\n",
            "              19.704038713827845      18.8\n",
            "Actual Sale :  20.7 \n",
            "\n",
            "Prediction -> Linear Regression  |  K-Nearest Neighbors\n",
            "              8.606655630341557      11.9\n",
            "Actual Sale :  10.4 \n",
            "\n",
            "Prediction -> Linear Regression  |  K-Nearest Neighbors\n",
            "              17.362245228237718      17.15\n",
            "Actual Sale :  17.0 \n",
            "\n",
            "Prediction -> Linear Regression  |  K-Nearest Neighbors\n",
            "              9.571977576505525      10.55\n",
            "Actual Sale :  10.3 \n",
            "\n",
            "Prediction -> Linear Regression  |  K-Nearest Neighbors\n",
            "              18.043123534305654      13.8\n",
            "Actual Sale :  15.0 \n",
            "\n",
            "Prediction -> Linear Regression  |  K-Nearest Neighbors\n",
            "              23.473395705721884      23.15\n",
            "Actual Sale :  23.8 \n",
            "\n",
            "Prediction -> Linear Regression  |  K-Nearest Neighbors\n",
            "              12.726729409507467      12.899999999999999\n",
            "Actual Sale :  12.8 \n",
            "\n",
            "Prediction -> Linear Regression  |  K-Nearest Neighbors\n",
            "              19.788601986526423      18.799999999999997\n",
            "Actual Sale :  19.8 \n",
            "\n",
            "Prediction -> Linear Regression  |  K-Nearest Neighbors\n",
            "              12.10560298909021      13.55\n",
            "Actual Sale :  11.7 \n",
            "\n",
            "Prediction -> Linear Regression  |  K-Nearest Neighbors\n",
            "              12.683658551265786      14.0\n",
            "Actual Sale :  13.2 \n",
            "\n",
            "Prediction -> Linear Regression  |  K-Nearest Neighbors\n",
            "              5.860241458622879      6.65\n",
            "Actual Sale :  7.2 \n",
            "\n",
            "Prediction -> Linear Regression  |  K-Nearest Neighbors\n",
            "              14.181696436069375      15.2\n",
            "Actual Sale :  14.4 \n",
            "\n",
            "Prediction -> Linear Regression  |  K-Nearest Neighbors\n",
            "              20.8679535066085      22.450000000000003\n",
            "Actual Sale :  21.7 \n",
            "\n",
            "Prediction -> Linear Regression  |  K-Nearest Neighbors\n",
            "              19.56284502599303      20.75\n",
            "Actual Sale :  19.7 \n",
            "\n",
            "Prediction -> Linear Regression  |  K-Nearest Neighbors\n",
            "              15.200039407396748      15.0\n",
            "Actual Sale :  15.2 \n",
            "\n",
            "Prediction -> Linear Regression  |  K-Nearest Neighbors\n",
            "              10.361347903937707      6.4\n",
            "Actual Sale :  6.6 \n",
            "\n",
            "Prediction -> Linear Regression  |  K-Nearest Neighbors\n",
            "              24.349989548516255      24.95\n",
            "Actual Sale :  26.2 \n",
            "\n",
            "Prediction -> Linear Regression  |  K-Nearest Neighbors\n",
            "              11.287324492077769      11.100000000000001\n",
            "Actual Sale :  11.8 \n",
            "\n",
            "Prediction -> Linear Regression  |  K-Nearest Neighbors\n",
            "              11.886125116156043      13.75\n",
            "Actual Sale :  12.2 \n",
            "\n",
            "Prediction -> Linear Regression  |  K-Nearest Neighbors\n",
            "              7.679006846057858      10.1\n",
            "Actual Sale :  9.7 \n",
            "\n",
            "Prediction -> Linear Regression  |  K-Nearest Neighbors\n",
            "              22.348567399084324      20.5\n",
            "Actual Sale :  24.7 \n",
            "\n",
            "Prediction -> Linear Regression  |  K-Nearest Neighbors\n",
            "              5.493139522344862      8.55\n",
            "Actual Sale :  8.1 \n",
            "\n",
            "Prediction -> Linear Regression  |  K-Nearest Neighbors\n",
            "              13.62583956387109      12.45\n",
            "Actual Sale :  11.6 \n",
            "\n",
            "Prediction -> Linear Regression  |  K-Nearest Neighbors\n",
            "              17.111386756194317      14.1\n",
            "Actual Sale :  15.9 \n",
            "\n",
            "Prediction -> Linear Regression  |  K-Nearest Neighbors\n",
            "              16.39971433741117      15.600000000000001\n",
            "Actual Sale :  16.6 \n",
            "\n",
            "Prediction -> Linear Regression  |  K-Nearest Neighbors\n",
            "              15.143676670117081      16.3\n",
            "Actual Sale :  14.9 \n",
            "\n",
            "Prediction -> Linear Regression  |  K-Nearest Neighbors\n",
            "              8.218749194361973      9.850000000000001\n",
            "Actual Sale :  9.9 \n",
            "\n",
            "Prediction -> Linear Regression  |  K-Nearest Neighbors\n",
            "              11.229146628597327      12.0\n",
            "Actual Sale :  11.9 \n",
            "\n",
            "Prediction -> Linear Regression  |  K-Nearest Neighbors\n",
            "              15.486913168029826      15.65\n",
            "Actual Sale :  15.6 \n",
            "\n",
            "Prediction -> Linear Regression  |  K-Nearest Neighbors\n",
            "              7.4578219581772665      9.649999999999999\n",
            "Actual Sale :  9.6 \n",
            "\n",
            "Prediction -> Linear Regression  |  K-Nearest Neighbors\n",
            "              8.64677233534864      10.2\n",
            "Actual Sale :  9.7 \n",
            "\n",
            "Prediction -> Linear Regression  |  K-Nearest Neighbors\n",
            "              6.349002708213121      8.7\n",
            "Actual Sale :  9.4 \n",
            "\n",
            "Prediction -> Linear Regression  |  K-Nearest Neighbors\n",
            "              8.550345008071897      3.6500000000000004\n",
            "Actual Sale :  5.3 \n",
            "\n",
            "Prediction -> Linear Regression  |  K-Nearest Neighbors\n",
            "              15.65428671169704      14.05\n",
            "Actual Sale :  12.7 \n",
            "\n",
            "Prediction -> Linear Regression  |  K-Nearest Neighbors\n",
            "              19.50672346065466      18.9\n",
            "Actual Sale :  18.9 \n",
            "\n",
            "Prediction -> Linear Regression  |  K-Nearest Neighbors\n",
            "              9.766133950025857      11.100000000000001\n",
            "Actual Sale :  11.3 \n",
            "\n",
            "Prediction -> Linear Regression  |  K-Nearest Neighbors\n",
            "              18.462656076652596      22.45\n",
            "Actual Sale :  19.2 \n",
            "\n"
          ]
        }
      ]
    }
  ]
}